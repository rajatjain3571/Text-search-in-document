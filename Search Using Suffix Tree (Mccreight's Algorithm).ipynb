{
 "cells": [
  {
   "cell_type": "markdown",
   "metadata": {},
   "source": [
    "# Reading File"
   ]
  },
  {
   "cell_type": "code",
   "execution_count": 1,
   "metadata": {},
   "outputs": [],
   "source": [
    "import numpy as np\n",
    "import time\n",
    "import matplotlib.pyplot as plt \n"
   ]
  },
  {
   "cell_type": "code",
   "execution_count": 2,
   "metadata": {},
   "outputs": [],
   "source": [
    "def extract(filename):\n",
    "    y = \"\"\n",
    "    file = open(filename, 'r')\n",
    "    l = []\n",
    "    for ch in file:\n",
    "        a = ch.split(\" \")\n",
    "        l.append(a)\n",
    "    \n",
    "    content = []\n",
    "    output=\"\"\n",
    "    \n",
    "    for i in l:\n",
    "        for j in i:\n",
    "            output=output+j.strip(' \\t\\n\\r')+\" \"\n",
    "    output=output.strip(' \\t\\n\\r')+\"$0\"\n",
    "    return output\n"
   ]
  },
  {
   "cell_type": "code",
   "execution_count": 3,
   "metadata": {},
   "outputs": [],
   "source": [
    "output=extract('dataset.txt')\n"
   ]
  },
  {
   "cell_type": "markdown",
   "metadata": {},
   "source": [
    "# Input search keyword or sentence"
   ]
  },
  {
   "cell_type": "code",
   "execution_count": 4,
   "metadata": {},
   "outputs": [
    {
     "name": "stdout",
     "output_type": "stream",
     "text": [
      "Enter value you want to search :him\n"
     ]
    }
   ],
   "source": [
    "search_key=input(\"Enter value you want to search :\")"
   ]
  },
  {
   "cell_type": "markdown",
   "metadata": {},
   "source": [
    "# Tree Creation"
   ]
  },
  {
   "cell_type": "code",
   "execution_count": 4,
   "metadata": {},
   "outputs": [],
   "source": [
    "class Node(object):\n",
    "\n",
    "    def __init__(self,substring,suffixnum):\n",
    "        self.children = {} \n",
    "        self.suffixnum = suffixnum \n",
    "        self.substring = substring \n",
    "\n",
    "    def get_children(self,subs):\n",
    "        parent = subs\n",
    "        keys = list(self.children.keys())\n",
    "        if(keys != []):\n",
    "            for key in keys:\n",
    "                if(key.startswith(parent)):\n",
    "                    return self.children[key]\n",
    "        else:\n",
    "            return None\n",
    "\n",
    "    def set_children(self,substring,child):\n",
    "        self.children[substring] = child\n",
    "    \n",
    "    \n",
    "        "
   ]
  },
  {
   "cell_type": "code",
   "execution_count": 5,
   "metadata": {},
   "outputs": [],
   "source": [
    "def char_match_count(a,b):\n",
    "    length = len(a)\n",
    "    suffix_length = len(b)\n",
    "    count = 0\n",
    "    mlength=np.minimum(length,suffix_length)\n",
    "    if(a[0]==b[0]):\n",
    "        for i in range(0, mlength):\n",
    "            if (a[i] == b[i]):\n",
    "                count += 1\n",
    "            else:\n",
    "                break\n",
    "\n",
    "    return count"
   ]
  },
  {
   "cell_type": "code",
   "execution_count": 6,
   "metadata": {},
   "outputs": [],
   "source": [
    "class SuffixTree(object):\n",
    "    \n",
    "    def __init__(self):\n",
    "        self.root = Node(None,None)\n",
    "    \n",
    "    def create(self,word):\n",
    "        suffixes = [word[i:] for i in range(0,word.index('$'))]\n",
    "        \n",
    "        for i in range(0,len(suffixes)):\n",
    "            self.insert(self.root,suffixes[i],i)\n",
    "    \n",
    "    def insert(self,node,suffix,number):\n",
    "        child = node.get_children(suffix[0])\n",
    "        if(child == None):\n",
    "            newChild = Node(suffix,number)\n",
    "            node.set_children(suffix,newChild)\n",
    "            return\n",
    "        \n",
    "        if(child.children == {}) and (child.substring == suffix):\n",
    "            return\n",
    "        num_matched = char_match_count(child.substring, suffix)\n",
    "        if(num_matched==len(child.substring) and (child.children!={})):\n",
    "            self.insert(child,suffix[num_matched:],number)\n",
    "            return\n",
    "        elif(len(child.substring) < len(suffix)):\n",
    "            if(child.children == {}):\n",
    "                new_child_string = child.substring[:num_matched]\n",
    "                if(child.substring != new_child_string):\n",
    "                    node.children[new_child_string] = node.children[child.substring]\n",
    "                    del node.children[child.substring]\n",
    "                if(len(child.substring)>1 and len(child.substring)!=num_matched):\n",
    "                    rest_child_string = child.substring[num_matched:]\n",
    "                    new_internal_node = Node(rest_child_string,child.suffixnum)\n",
    "                    for child_string,child_node in child.children.items():\n",
    "                        new_internal_node.set_children(child_string,child_node)\n",
    "                    child.children.clear()\n",
    "                    child.set_children(rest_child_string,new_internal_node)\n",
    "                child.substring = new_child_string\n",
    "                self.insert(child,suffix[num_matched :],number)\n",
    "                return\n",
    "        new_internal_node = Node(suffix[:num_matched],child.suffixnum)\n",
    "        del node.children[child.substring]\n",
    "        new_child_node = Node(suffix[num_matched:],number)\n",
    "        child.substring = child.substring[num_matched:]\n",
    "        new_internal_node.set_children(suffix[num_matched:],new_child_node)\n",
    "        new_internal_node.set_children(child.substring,child)\n",
    "        node.set_children(suffix[:num_matched],new_internal_node)\n",
    "        return\n",
    "\n",
    "    def get_suffix_num(self,node,num):\n",
    "        num.append(node.suffixnum)\n",
    "\n",
    "        return(num)\n",
    "\n",
    "    def find_dollar(self,node):\n",
    "        index = node.substring.find('$')\n",
    "\n",
    "        if index==-1:\n",
    "            li = []\n",
    "            for j in node.children:\n",
    "                \n",
    "                val = self.find_dollar(node.children[j])\n",
    "                \n",
    "                for k in range(0,len(val)):\n",
    "                    li.append(val[k])\n",
    "            return(li)\n",
    "        else:\n",
    "            \n",
    "            l = []\n",
    "\n",
    "            num = []\n",
    "\n",
    "            \n",
    "            out = self.get_suffix_num(node,num)\n",
    "\n",
    "            return out\n",
    "\n",
    "    def find(self,node,s):\n",
    "        \n",
    "        child = node.get_children(s[0])\n",
    "        \n",
    "        if child==None:\n",
    "            return(-1)\n",
    "        else:\n",
    "            num_matched = char_match_count(s,child.substring)\n",
    "            \n",
    "            if len(child.substring)==len(s):\n",
    "                if num_matched==len(child.substring):\n",
    "                    return(self.find_dollar(child))\n",
    "                else:\n",
    "                    return(-1)\n",
    "            elif len(s)<len(child.substring):\n",
    "                if num_matched==len(s):\n",
    "                    return(self.find_dollar(child))\n",
    "                else:\n",
    "                    return(-1)\n",
    "            else:\n",
    "                if num_matched==len(child.substring):\n",
    "                    return(self.find(child,s[num_matched:]))\n",
    "                else:\n",
    "                    return(-1)\n",
    "\n",
    "    def search(self,s):\n",
    "        return(self.find(self.root,s))\n",
    "    \n",
    "    def get_root_node(self):\n",
    "        return self.root\n",
    "    \n",
    "    \n",
    "    \n",
    "    "
   ]
  },
  {
   "cell_type": "markdown",
   "metadata": {},
   "source": [
    "# Search Tree"
   ]
  },
  {
   "cell_type": "code",
   "execution_count": 7,
   "metadata": {},
   "outputs": [],
   "source": [
    "import sys\n",
    "def search_in_document(search_key,dataset):\n",
    "    create_tree_start_time = time.time()\n",
    "\n",
    "    tree = SuffixTree()\n",
    "    tree.create(dataset)\n",
    "\n",
    "    create_tree_end_time= time.time()\n",
    "    out = tree.search(search_key)\n",
    "    if out!=-1:\n",
    "        print(\"Search key : \\\" \",search_key,\" \\\" is present in following lines \\n\")\n",
    "        out.sort()\n",
    "        get_searchKey_String(out,dataset,search_key)\n",
    "        print(\"\\n\")\n",
    "\n",
    "    else:\n",
    "        print(\"Search Key not found\")\n",
    "        \n"
   ]
  },
  {
   "cell_type": "markdown",
   "metadata": {},
   "source": [
    "# Print Lines containing search keywords and count of keywords in that line"
   ]
  },
  {
   "cell_type": "code",
   "execution_count": 8,
   "metadata": {
    "scrolled": false
   },
   "outputs": [],
   "source": [
    "def get_searchKey_String(indexM,dataset,searchKey):\n",
    "    dict={}\n",
    "    for i in range(0,len(indexM)):\n",
    "        cindex=indexM[i]\n",
    "        \n",
    "        k=cindex\n",
    "        l=cindex\n",
    "        while (k!=0):\n",
    "            if dataset[k]=='.':\n",
    "                k=k+1\n",
    "                break\n",
    "            k-=1\n",
    "        while l<len(dataset) and (dataset[l]!='.' or dataset[l]!='$'):\n",
    "            if(dataset[l]=='.'):\n",
    "                l=l+1\n",
    "                break\n",
    "            elif(dataset[l]=='$'):\n",
    "                break\n",
    "            l+=1\n",
    "\n",
    "        if(dataset[k]=='.'):\n",
    "            k=k+1\n",
    "        if(dataset[k:l] in dict.keys()):\n",
    "            dict[dataset[k:l]]+=1\n",
    "        else:\n",
    "            dict[dataset[k:l]]=1\n",
    "    for k in dict.keys():\n",
    "        print(\"Search key is present \",dict[k],\" times in ==> \\n\",k,\"\\n\")\n",
    "    \n",
    "            \n",
    "\n"
   ]
  },
  {
   "cell_type": "code",
   "execution_count": 10,
   "metadata": {},
   "outputs": [
    {
     "name": "stdout",
     "output_type": "stream",
     "text": [
      "56\n",
      "Search key : \"  him  \" is present in following lines \n",
      "\n",
      "Search key is present  1  times in ==> \n",
      "  I have seldom heard him mention her under any other name. \n",
      "\n",
      "Search key is present  1  times in ==> \n",
      "  He was, I take it, the most perfect reasoning and observing machine that the world has seen, but as a lover he would have placed himself in a false position. \n",
      "\n",
      "Search key is present  1  times in ==> \n",
      "  And yet there was but one woman to him, and that woman was the late Irene Adler, of dubious and questionable memory. \n",
      "\n",
      "Search key is present  1  times in ==> \n",
      "  My own complete happiness, and the home-centred interests which rise up around the man who first finds himself master of his own establishment, were sufficient to absorb all my attention, while Holmes, who loathed every form of society with his whole Bohemian soul, remained in our lodgings in Baker Street, buried among his old books, and alternating from week to week between cocaine and ambition, the drowsiness of the drug, and the fierce energy of his own keen nature. \n",
      "\n",
      "Search key is present  1  times in ==> \n",
      "  He was pacing the room swiftly, eagerly, with his head sunk upon his chest and his hands clasped behind him. \n",
      "\n",
      "\n",
      "\n",
      "Execution time is   0.1142117977142334 seconds \n"
     ]
    }
   ],
   "source": [
    "start_time = time.time()\n",
    "search_in_document(search_key,output)\n",
    "print(\"Execution time is \",\" %s seconds \" % (time.time() - start_time))"
   ]
  },
  {
   "cell_type": "code",
   "execution_count": 9,
   "metadata": {},
   "outputs": [],
   "source": [
    "tree = SuffixTree()\n",
    "\n",
    "tree.create(output) "
   ]
  },
  {
   "cell_type": "markdown",
   "metadata": {},
   "source": [
    "# Suffix Array from Suffix Tree"
   ]
  },
  {
   "cell_type": "code",
   "execution_count": 10,
   "metadata": {},
   "outputs": [],
   "source": [
    "rootNode=tree.get_root_node()\n",
    "\n",
    "stack=[]\n",
    "stack.append(rootNode)\n",
    "\n",
    "visited=[]\n",
    "sarray=[]\n",
    "\n",
    "while len(stack)!=0:\n",
    "    node = stack.pop()\n",
    "\n",
    "    if node in visited:\n",
    "        continue\n",
    "    visited.append(node)\n",
    "    \n",
    "    for k,v in node.children.items():\n",
    "        if v not in visited:\n",
    "            stack.append(v)\n",
    "            \n"
   ]
  },
  {
   "cell_type": "code",
   "execution_count": null,
   "metadata": {},
   "outputs": [],
   "source": [
    "for i in sarray:\n",
    "    print(i,\"\\n\")"
   ]
  },
  {
   "cell_type": "markdown",
   "metadata": {},
   "source": [
    "# LCP from Suffix Array"
   ]
  },
  {
   "cell_type": "code",
   "execution_count": 522,
   "metadata": {},
   "outputs": [
    {
     "name": "stdout",
     "output_type": "stream",
     "text": [
      "[0, 0, 0, 1, 4, 4, 4, 0, 7, 7]\n"
     ]
    }
   ],
   "source": [
    "lcp=[]\n",
    "prev=sarray[0]\n",
    "for i in range(1,len(sarray)):\n",
    "    count=0\n",
    "    current=sarray[i]\n",
    "    prevSize=len(prev)\n",
    "    currSize=len(current)\n",
    "    loopCount=min(prevSize,currSize)\n",
    "    for j in range(loopCount):\n",
    "        if current[j]==prev[j]:\n",
    "            count+=1\n",
    "        else:\n",
    "            break\n",
    "    lcp.append(count)\n",
    "    prev=current\n",
    "            \n",
    "print(lcp)"
   ]
  },
  {
   "cell_type": "code",
   "execution_count": 11,
   "metadata": {},
   "outputs": [],
   "source": [
    "def creation_time_graph(data):\n",
    "    create_tree_start_time = time.time()\n",
    "\n",
    "    tree = SuffixTree()\n",
    "    tree.create(data) \n",
    "    create_tree_end_time= time.time()\n",
    "    diff=create_tree_end_time-create_tree_start_time\n",
    "    return diff\n",
    "    \n",
    "    "
   ]
  },
  {
   "cell_type": "code",
   "execution_count": 12,
   "metadata": {},
   "outputs": [],
   "source": [
    "def search_time_graph(data,inputvalues):\n",
    "    tree = SuffixTree()\n",
    "    tree.create(data) \n",
    "    times=[]\n",
    "    for i in inputvalues:\n",
    "        search_tree_start_time = time.time()\n",
    "        out = tree.search(i)\n",
    "        if out!=-1:\n",
    "            print(\"Search key : \\\" \",search_key,\" \\\" is present in following lines \\n\")\n",
    "            out.sort()\n",
    "            get_searchKey_String(out,dataset,search_key)\n",
    "            print(\"\\n\")\n",
    "\n",
    "        else:\n",
    "            print(\"Search Key not found\")\n",
    "        search_tree_end_time= time.time()\n",
    "        diff=search_tree_end_time-search_tree_start_time\n",
    "        times.append(diff)\n",
    "    return times\n",
    "        \n",
    "\n",
    "        \n",
    "    \n",
    "  "
   ]
  },
  {
   "cell_type": "code",
   "execution_count": 13,
   "metadata": {},
   "outputs": [
    {
     "name": "stdout",
     "output_type": "stream",
     "text": [
      "3769\n"
     ]
    }
   ],
   "source": [
    "print(len(output))"
   ]
  },
  {
   "cell_type": "code",
   "execution_count": 15,
   "metadata": {},
   "outputs": [],
   "source": [
    "def plot_graph_create(data):\n",
    "    x=[]\n",
    "    y=[]\n",
    "    for i in range(600,len(data)-1,600):\n",
    "        x.append(creation_time_graph(data[0:i]+\"$\"))\n",
    "        y.append(i)\n",
    "    plt.title(\"Tree creation time vs String length\")\n",
    "    plt.ylabel(\"Creation time\")\n",
    "    plt.xlabel(\"String length\")\n",
    "    plt.plot(y,x)\n",
    "        "
   ]
  },
  {
   "cell_type": "code",
   "execution_count": 16,
   "metadata": {},
   "outputs": [
    {
     "data": {
      "image/png": "[encoded data removed]",
      "text/plain": [
       "<Figure size 432x288 with 1 Axes>"
      ]
     },
     "metadata": {},
     "output_type": "display_data"
    }
   ],
   "source": [
    "plot_graph_create(output)"
   ]
  },
  {
   "cell_type": "code",
   "execution_count": 19,
   "metadata": {},
   "outputs": [],
   "source": [
    "def creation_space_graph(data):\n",
    "\n",
    "\n",
    "    tree = SuffixTree()\n",
    "    tree.create(data)\n",
    "\n",
    "\n",
    "    return sys.getsizeof(tree)\n"
   ]
  },
  {
   "cell_type": "code",
   "execution_count": 20,
   "metadata": {},
   "outputs": [],
   "source": [
    "def plot_graph_space(data):\n",
    "    x=[]\n",
    "    y=[]\n",
    "    for i in range(100,len(data)-1,100):\n",
    "        s=data[0:i]+\"$\"\n",
    "        siz=sys.getsizeof(s)\n",
    "        x.append(creation_space_graph(s)*siz)\n",
    "        \n",
    "        y.append(i)\n",
    "    plt.title(\"Space taken by suffix tree vs String length\")\n",
    "    plt.ylabel(\"Space in bytes\")\n",
    "    plt.xlabel(\"String length\")\n",
    "    plt.plot(y,x)\n",
    "        "
   ]
  },
  {
   "cell_type": "code",
   "execution_count": 21,
   "metadata": {},
   "outputs": [
    {
     "data": {
      "image/png": "[encoded data removed]",
      "text/plain": [
       "<Figure size 432x288 with 1 Axes>"
      ]
     },
     "metadata": {},
     "output_type": "display_data"
    }
   ],
   "source": [
    "plot_graph_space(output)"
   ]
  },
  {
   "cell_type": "code",
   "execution_count": 22,
   "metadata": {},
   "outputs": [
    {
     "name": "stdout",
     "output_type": "stream",
     "text": [
      "51\n"
     ]
    },
    {
     "data": {
      "image/png": "[encoded data removed]",
      "text/plain": [
       "<Figure size 432x288 with 1 Axes>"
      ]
     },
     "metadata": {},
     "output_type": "display_data"
    }
   ],
   "source": [
    "def searchtime(tree,inp):\n",
    "    search_tree_start_time = time.time()\n",
    "    out = tree.search(inp)\n",
    "\n",
    "    search_tree_end_time = time.time()\n",
    "    diff = search_tree_end_time - search_tree_start_time\n",
    "    return diff\n",
    "\n",
    "def plot_graph_create(tree):\n",
    "    x=[]\n",
    "    y=[]\n",
    "    inputval=\"I had seen little of Holmes lately. My marriage had drifted us away from each other. My own complete happiness, and the home-centred interests which rise up around the man who first finds himself master of his own establishment, were sufficient to absorb all my attention, while Holmes, who loathed every form of society with his whole Bohemian soul, remained in our lodgings in Baker Street, buried among his old books, and alternating from week to week between cocaine and ambition, the drowsiness of the drug, and the fierce energy of his own keen nature. He was still, as ever, deeply attracted by the study of crime, and occupied his immense faculties and extraordinary powers of observation in following out those clues, and clearing up those mysteries which had been abandoned as hopeless by the official police. From time to time I heard some vague account of his doings: of his summons to Odessa in the case of the Trepoff murder, of his clearing up of the singular tragedy of the Atkinson brothers at Trincomalee, and finally of the mission which he had accomplished so delicately and successfully for the reigning family of Holland. Beyond these signs of his activity, however, which I merely shared with all the readers of the daily press, I knew little of my former friend and companion\"\n",
    "    leninput=len(inputval)\n",
    "    var=leninput//25\n",
    "    print(var)\n",
    "    for i in range(0,leninput,var):\n",
    "        x.append(searchtime(tree,inputval[0:i+var].strip()))\n",
    "        y.append(len(inputval[0:i+var].strip()))\n",
    "\n",
    "    plt.title(\"Search time in tree vs Search keyword length\")\n",
    "    plt.ylabel(\"Search time\")\n",
    "    plt.xlabel(\"Length of input keyword\")\n",
    "    plt.plot(y,x)\n",
    "    \n",
    "\n",
    "    \n",
    "tree = SuffixTree()\n",
    "tree.create(output)\n",
    "plot_graph_create(tree)"
   ]
  },
  {
   "cell_type": "code",
   "execution_count": null,
   "metadata": {},
   "outputs": [],
   "source": []
  }
 ],
 "metadata": {
  "kernelspec": {
   "display_name": "Python 3",
   "language": "python",
   "name": "python3"
  },
  "language_info": {
   "codemirror_mode": {
    "name": "ipython",
    "version": 3
   },
   "file_extension": ".py",
   "mimetype": "text/x-python",
   "name": "python",
   "nbconvert_exporter": "python",
   "pygments_lexer": "ipython3",
   "version": "3.6.5"
  }
 },
 "nbformat": 4,
 "nbformat_minor": 2
}
